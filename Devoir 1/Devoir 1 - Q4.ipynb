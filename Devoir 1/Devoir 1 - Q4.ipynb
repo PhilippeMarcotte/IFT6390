{
 "cells": [
  {
   "cell_type": "code",
   "execution_count": 41,
   "metadata": {},
   "outputs": [
    {
     "data": {
      "text/plain": [
       "array([ 2.16127041,  1.51938483,  1.26793987,  1.19769284,  2.11076801,\n",
       "       -1.09803387,  1.49955902,  2.25363001, -0.28190945,  0.94639246,\n",
       "        1.35641798,  1.78178283,  0.50923948, -3.51508248, -2.63076825,\n",
       "       -4.06814008, -0.58375588,  2.12451922, -1.18311858,  1.69216249,\n",
       "        0.68251108,  0.96529864, -2.11176223, -1.63831061, -1.14148148,\n",
       "        1.30823645,  0.96360787,  2.08360975,  2.05863208,  1.38974255,\n",
       "        1.40256456,  0.62404938, -0.38346607, -0.90230527,  1.82842113,\n",
       "        0.93500747,  0.81652604,  1.18274874, -0.32140106,  2.21749453,\n",
       "        1.78171302, -3.76898949,  0.14445509, -3.71941704, -2.48437276,\n",
       "        1.35451695,  1.4311738 ,  1.35451269,  1.63893169,  2.15763768])"
      ]
     },
     "execution_count": 41,
     "metadata": {},
     "output_type": "execute_result"
    }
   ],
   "source": [
    "from abc import ABC, abstractmethod\n",
    "import numpy as np\n",
    "from scipy.stats import multivariate_normal\n",
    "\n",
    "class Model(ABC):\n",
    "    @abstractmethod\n",
    "    def train(self, train_inputs, train_labels):\n",
    "        pass\n",
    "    \n",
    "    @abstractmethod\n",
    "    def predict(self, test_inputs):\n",
    "        pass\n",
    "        \n",
    "class DiagonalGaussian(Model):\n",
    "    def train(self, train_inputs, train_labels):\n",
    "        self.mean = np.mean(train_inputs, axis=0)\n",
    "        self.covariance = np.diag(np.diag(np.cov(train_inputs.T, bias=True)))\n",
    "        self.inv_covariance = np.linalg.inv(self.covariance)\n",
    "        self.first_half_pdf = 1 / (np.sqrt((2 * np.pi) ** train_inputs.shape[1] * np.linalg.det(self.covariance)))\n",
    "    \n",
    "    def __logpdf__(self, x):\n",
    "        diff = x - self.mean\n",
    "        second_half_pdf = np.exp(-0.5 * np.dot(np.dot(diff, self.inv_covariance), diff))\n",
    "        return np.log(self.first_half_pdf * second_half_pdf)\n",
    "    \n",
    "    def predict(self, test_inputs):\n",
    "        predictions = np.zeros((test_inputs.shape[0]))\n",
    "        for i, x in enumerate(test_inputs):\n",
    "            predictions[i] = self.__logpdf__(x)\n",
    "        return predictions\n",
    "\n",
    "dg = DiagonalGaussian()\n",
    "data = np.loadtxt('iris.txt')\n",
    "train_inputs = data[:50, :4]\n",
    "train_labels = data[:50, 4]\n",
    "\n",
    "dg.train(train_inputs, train_labels)\n",
    "dg.predict(data[:50, :4])"
   ]
  }
 ],
 "metadata": {
  "kernelspec": {
   "display_name": "Python 3",
   "language": "python",
   "name": "python3"
  },
  "language_info": {
   "codemirror_mode": {
    "name": "ipython",
    "version": 3
   },
   "file_extension": ".py",
   "mimetype": "text/x-python",
   "name": "python",
   "nbconvert_exporter": "python",
   "pygments_lexer": "ipython3",
   "version": "3.6.3"
  }
 },
 "nbformat": 4,
 "nbformat_minor": 2
}
