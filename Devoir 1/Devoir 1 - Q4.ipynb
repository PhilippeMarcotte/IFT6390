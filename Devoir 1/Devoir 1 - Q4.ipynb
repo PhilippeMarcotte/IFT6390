{
 "cells": [
  {
   "cell_type": "code",
   "execution_count": 51,
   "metadata": {},
   "outputs": [
    {
     "data": {
      "text/plain": [
       "array([-2.61595977, -4.22945977, -3.07945977, -2.73895977, -2.92795977,\n",
       "       -2.85145977, -2.72795977, -2.84245977, -2.71545977, -2.61195977])"
      ]
     },
     "execution_count": 51,
     "metadata": {},
     "output_type": "execute_result"
    }
   ],
   "source": [
    "from abc import ABC, abstractmethod\n",
    "import numpy as np\n",
    "from scipy.stats import multivariate_normal\n",
    "\n",
    "class Model(ABC):\n",
    "    @abstractmethod\n",
    "    def train(self, train_inputs, train_labels):\n",
    "        pass\n",
    "    \n",
    "    @abstractmethod\n",
    "    def predict(self, test_inputs):\n",
    "        pass\n",
    "        \n",
    "class DiagonalGaussian(Model):\n",
    "    def train(self, train_inputs, train_labels):\n",
    "        self.mean = np.mean(train_inputs, axis=0)\n",
    "        self.covariance = np.diag(np.diag(np.cov(train_inputs.T, bias=True)))\n",
    "        self.inv_covariance = np.linalg.inv(self.covariance)\n",
    "        self.first_half_pdf = 1 / (np.sqrt((2 * np.pi) ** train_inputs.shape[1] * np.linalg.det(self.covariance)))\n",
    "    \n",
    "    def __logpdf__(self, x):\n",
    "        diff = x - self.mean\n",
    "        second_half_pdf = np.exp(-0.5 * np.dot(np.dot(diff, self.inv_covariance), diff))\n",
    "        return np.log(self.first_half_pdf * second_half_pdf)\n",
    "    \n",
    "    def predict(self, test_inputs):\n",
    "        predictions = np.zeros((test_inputs.shape[0]))\n",
    "        for i, x in enumerate(test_inputs):\n",
    "            predictions[i] = self.__logpdf__(x)\n",
    "            \n",
    "        return predictions\n",
    "\n",
    "dg = DiagonalGaussian()\n",
    "data = np.loadtxt('iris.txt')\n",
    "train_inputs = data[:40, :4]\n",
    "train_labels = data[:40, 4]\n",
    "\n",
    "dg.train(train_inputs, train_labels)\n",
    "\n",
    "\n",
    "class ParzenIsotropicGaussian(Model):\n",
    "    def __init__(self, sigma = 0.5):\n",
    "        self.sigma = sigma\n",
    "        \n",
    "    def train(self, train_inputs, train_labels):\n",
    "        self.train_inputs = train_inputs\n",
    "        self.train_labels = train_labels\n",
    "        \n",
    "        self.covariance = np.identity(train_inputs.shape[1]) * self.sigma\n",
    "        self.inv_covariance = np.linalg.inv(self.covariance)\n",
    "        self.first_half_pdf = 1 / (np.sqrt((2 * np.pi) ** train_inputs.shape[1] * np.linalg.det(self.covariance)))\n",
    "    \n",
    "    def __logpdf__(self, x, mean):\n",
    "        diff = x - mean\n",
    "        second_half_pdf = np.exp(-0.5 * np.dot(np.dot(diff, self.inv_covariance), diff))\n",
    "        return np.log(self.first_half_pdf * second_half_pdf)\n",
    "\n",
    "    def predict(self, test_inputs):\n",
    "        predictions = np.zeros((test_inputs.shape[0]))\n",
    "        for i, x in enumerate(test_inputs):\n",
    "            for X in train_inputs:\n",
    "                predictions[i] += self.__logpdf__(x, X)\n",
    "                \n",
    "        predictions /= train_inputs.shape[0]\n",
    "        return predictions\n",
    "\n",
    "parzen = ParzenIsotropicGaussian()\n",
    "\n",
    "parzen.train(train_inputs, train_labels)\n",
    "dg.predict(data[40:50, :4])\n",
    "parzen.predict(data[40:50, :4])"
   ]
  }
 ],
 "metadata": {
  "kernelspec": {
   "display_name": "Python 3",
   "language": "python",
   "name": "python3"
  },
  "language_info": {
   "codemirror_mode": {
    "name": "ipython",
    "version": 3
   },
   "file_extension": ".py",
   "mimetype": "text/x-python",
   "name": "python",
   "nbconvert_exporter": "python",
   "pygments_lexer": "ipython3",
   "version": "3.6.3"
  }
 },
 "nbformat": 4,
 "nbformat_minor": 2
}
