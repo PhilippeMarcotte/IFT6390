{
 "cells": [
  {
   "cell_type": "code",
   "execution_count": null,
   "metadata": {
    "collapsed": true
   },
   "outputs": [],
   "source": [
    "from abc import ABC, abstractmethod\n",
    "import numpy as np\n",
    "\n",
    "class Model(ABC):\n",
    "    @abstractmethod\n",
    "    def train(self, train_inputs, train_labels):\n",
    "        pass\n",
    "    \n",
    "    @abstractmethod\n",
    "    def predict(self, test_inputs):\n",
    "        pass\n",
    "        \n",
    "class Gaussian(Model):\n",
    "    def __init__(self):\n",
    "    \n",
    "    def train(self, train_inputs, train_labels):\n",
    "        self.mean = np.mean(train_inputs)\n",
    "        diff = train_inputs - self.mean\n",
    "        outer_prod = np.outer(diff, diff)\n",
    "    \n",
    "    def predict(self, test_inputs):\n",
    "    "
   ]
  }
 ],
 "metadata": {
  "kernelspec": {
   "display_name": "Python 3",
   "language": "python",
   "name": "python3"
  },
  "language_info": {
   "codemirror_mode": {
    "name": "ipython",
    "version": 3
   },
   "file_extension": ".py",
   "mimetype": "text/x-python",
   "name": "python",
   "nbconvert_exporter": "python",
   "pygments_lexer": "ipython3",
   "version": "3.6.3"
  }
 },
 "nbformat": 4,
 "nbformat_minor": 2
}
