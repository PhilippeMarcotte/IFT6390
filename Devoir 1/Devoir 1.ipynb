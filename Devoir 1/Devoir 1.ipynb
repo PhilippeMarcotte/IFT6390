{
 "cells": [
  {
   "cell_type": "code",
   "execution_count": 1,
   "metadata": {},
   "outputs": [
    {
     "data": {
      "application/javascript": [
       "MathJax.Hub.Config({\n",
       "    TeX: { equationNumbers: { autoNumber: \"AMS\" } }\n",
       "});"
      ],
      "text/plain": [
       "<IPython.core.display.Javascript object>"
      ]
     },
     "metadata": {},
     "output_type": "display_data"
    }
   ],
   "source": [
    "%%javascript\n",
    "MathJax.Hub.Config({\n",
    "    TeX: { equationNumbers: { autoNumber: \"AMS\" } }\n",
    "});"
   ]
  },
  {
   "cell_type": "markdown",
   "metadata": {},
   "source": [
    "Soit c, l'évènement d'une femme dans la quarantaine effectuant une mammographie et ayant le cancer.\n",
    "\n",
    "Soit +, l'évènement d'un test positif.\n",
    "\n",
    "\\begin{equation}\n",
    "p(c) = 0.015\n",
    "\\end{equation}\n",
    "\n",
    "\\begin{equation}\n",
    "p(+ \\mid c) = 0.87\n",
    "\\end{equation}\n",
    "\n",
    "\\begin{equation}\n",
    "p(+ \\mid{\\overline{c}}) = 0.096\n",
    "\\end{equation}\n",
    "\n",
    "\\begin{equation}\n",
    "p(+) = p(+ \\mid c) \\cdot p(c) + p(+ \\mid{\\overline{c}}) \\cdot p(\\overline{c}) = 0.10761\n",
    "\\end{equation}\n",
    "\n",
    "\\begin{equation}\n",
    "p(+ \\mid c) = \\frac{p(+) \\cdot p(c \\mid +)}{p(c)} \\implies p(c \\mid +) = \\frac{p(+ \\mid c) \\cdot p(c)}{p(+)} = 0.121\n",
    "\\end{equation}\n",
    "\n",
    "La probabilité qu'une femme dans la quarantaine effectuant une mammographie et obtenant un résultat position est le cancer est de 12.1%."
   ]
  }
 ],
 "metadata": {
  "kernelspec": {
   "display_name": "Python 3",
   "language": "python",
   "name": "python3"
  },
  "language_info": {
   "codemirror_mode": {
    "name": "ipython",
    "version": 3
   },
   "file_extension": ".py",
   "mimetype": "text/x-python",
   "name": "python",
   "nbconvert_exporter": "python",
   "pygments_lexer": "ipython3",
   "version": "3.6.3"
  }
 },
 "nbformat": 4,
 "nbformat_minor": 2
}
